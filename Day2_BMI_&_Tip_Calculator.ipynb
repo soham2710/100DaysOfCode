{
  "nbformat": 4,
  "nbformat_minor": 0,
  "metadata": {
    "colab": {
      "name": "Day2-BMI & Tip Calculator.ipynb",
      "provenance": [],
      "collapsed_sections": [
        "_aE4aayVHGKS",
        "zP9PxWyOIMjQ"
      ],
      "authorship_tag": "ABX9TyM7fxlrK96gdVwqt2b6nwKB",
      "include_colab_link": true
    },
    "kernelspec": {
      "name": "python3",
      "display_name": "Python 3"
    },
    "language_info": {
      "name": "python"
    }
  },
  "cells": [
    {
      "cell_type": "markdown",
      "metadata": {
        "id": "view-in-github",
        "colab_type": "text"
      },
      "source": [
        "<a href=\"https://colab.research.google.com/github/soham2710/100DaysOfCode/blob/main/Day2_BMI_%26_Tip_Calculator.ipynb\" target=\"_parent\"><img src=\"https://colab.research.google.com/assets/colab-badge.svg\" alt=\"Open In Colab\"/></a>"
      ]
    },
    {
      "cell_type": "markdown",
      "source": [
        "#BMI Calculator\n",
        "\n",
        "Write a program that calculates the Body Mass Index (BMI) from a user's weight and height.\n",
        "The BMI is a measure of some's weight taking into account their height. \n",
        "\n",
        "e.g. If a tall person and a short person both weigh the same amount, the short person is usually more overweight.\n",
        "\n",
        "The BMI is calculated by dividing a person's weight (in kg) by the square of their height (in m).\n",
        "\n"
      ],
      "metadata": {
        "id": "WPL3jK7dSJmX"
      }
    },
    {
      "cell_type": "code",
      "execution_count": null,
      "metadata": {
        "colab": {
          "base_uri": "https://localhost:8080/"
        },
        "id": "5Li3NJD9Kp8h",
        "outputId": "872c8193-3a70-4343-ba2d-f86b49bf28d7"
      },
      "outputs": [
        {
          "output_type": "stream",
          "name": "stdout",
          "text": [
            "enter your height in m: 150\n",
            "enter your weight in kg: 36\n",
            "0.0016\n"
          ]
        }
      ],
      "source": [
        "# BMI Calculator\n",
        "height= input(\"enter your height in m: \")\n",
        "weight= input(\"enter your weight in kg: \")\n",
        "\n",
        "bmi = int(weight)/float(height)**2\n",
        "print(bmi)"
      ]
    },
    {
      "cell_type": "markdown",
      "source": [
        "#F-String\n",
        "\n",
        "Also called \"formatted string literals,\" f-strings are string literals that have an f at the beginning and curly braces containing expressions that will be replaced with their values. The expressions are evaluated at runtime and then formatted using the __format__ protocol. As always, the Python docs are your friend when you want to learn more. \n",
        "\n",
        "Source - realPython"
      ],
      "metadata": {
        "id": "CaiXc3gzSaux"
      }
    },
    {
      "cell_type": "code",
      "source": [
        "#f string\n",
        "score = 18\n",
        "height = 1.9\n",
        "isWinning = True\n",
        "\n",
        "print(f\"your score is {score}, your height is {height}, your winning is {isWinning}\")"
      ],
      "metadata": {
        "colab": {
          "base_uri": "https://localhost:8080/"
        },
        "id": "ytw8gnbq1MJ8",
        "outputId": "c0baf5f3-f3eb-4815-ff84-2518faab2265"
      },
      "execution_count": 1,
      "outputs": [
        {
          "output_type": "stream",
          "name": "stdout",
          "text": [
            "your score is 18, your height is 1.9, your winning is True\n"
          ]
        }
      ]
    },
    {
      "cell_type": "markdown",
      "source": [
        "# Write a program that adds the digits in a 2 digit number. e.g. if the input was 35, then the output should be 3 + 5 = 8"
      ],
      "metadata": {
        "id": "_aE4aayVHGKS"
      }
    },
    {
      "cell_type": "code",
      "source": [
        "two_digit_number = input(\"Type a two digit number: \")\n",
        "\n",
        "print(int(two_digit_number[0]) + (int(two_digit_number[1])))"
      ],
      "metadata": {
        "colab": {
          "base_uri": "https://localhost:8080/"
        },
        "id": "aqoTPg_iHDO8",
        "outputId": "e360423a-d763-43e9-9185-81d323811d23"
      },
      "execution_count": 1,
      "outputs": [
        {
          "output_type": "stream",
          "name": "stdout",
          "text": [
            "Type a two digit number: 35\n",
            "8\n"
          ]
        }
      ]
    },
    {
      "cell_type": "code",
      "source": [
        "print(6 + 4 / 2 - (1 * 2))"
      ],
      "metadata": {
        "colab": {
          "base_uri": "https://localhost:8080/"
        },
        "id": "sY8Ap9l_OlPg",
        "outputId": "c31ea7a6-947b-4a1b-f475-f475ee06169d"
      },
      "execution_count": 2,
      "outputs": [
        {
          "output_type": "stream",
          "name": "stdout",
          "text": [
            "6.0\n"
          ]
        }
      ]
    },
    {
      "cell_type": "code",
      "source": [
        "a = int(\"5\") / int(2.7)\n",
        "a"
      ],
      "metadata": {
        "colab": {
          "base_uri": "https://localhost:8080/"
        },
        "id": "RbMLC0HmOsnE",
        "outputId": "89b0a94c-1240-4159-a8fc-a447651d9ea0"
      },
      "execution_count": 3,
      "outputs": [
        {
          "output_type": "execute_result",
          "data": {
            "text/plain": [
              "2.5"
            ]
          },
          "metadata": {},
          "execution_count": 3
        }
      ]
    },
    {
      "cell_type": "markdown",
      "source": [
        "# *YOUR LIFE IN WEEKS*\n"
      ],
      "metadata": {
        "id": "zP9PxWyOIMjQ"
      }
    },
    {
      "cell_type": "markdown",
      "source": [
        "**Create a program using maths and f-Strings that tells us how many days, weeks, months we have left if we live until 90 years old.It will take your current age as the input and output a message with our time left in this format:You have x days, y weeks, and z months left.Where x, y and z are replaced with the actual calculated numbers. **\n",
        "\n",
        "Warning your output should match the Example Output format exactly, even the positions of the commas and full stops.\n",
        "\n",
        "Example output:\n",
        "\n",
        "You have 12410 days, 1768 weeks, and 408 months left."
      ],
      "metadata": {
        "id": "vbinE1bIHpFk"
      }
    },
    {
      "cell_type": "code",
      "source": [
        "age = int(input(\"What is your age? \"))\n",
        "#90 years \n",
        "n_days = 90*365\n",
        "days = n_days - (age*365)\n",
        "n_week = 90*52\n",
        "weeks = n_week-(age*52)\n",
        "n_months = 90*12\n",
        "months = n_months-(age*12)\n",
        "print(f\"You have {days} days, {weeks} weeks, and {months} months left\")"
      ],
      "metadata": {
        "colab": {
          "base_uri": "https://localhost:8080/"
        },
        "id": "EYszpifhHoYQ",
        "outputId": "d32ba0ba-3d0d-481c-d2c5-0389161d2213"
      },
      "execution_count": 14,
      "outputs": [
        {
          "output_type": "stream",
          "name": "stdout",
          "text": [
            "What is your age? 12\n",
            "You have 28470 days, 4056 weeks, and 936 months left\n"
          ]
        }
      ]
    },
    {
      "cell_type": "markdown",
      "source": [
        "#TIP CALCULATOR\n",
        "\n",
        "If the bill was $150.00, split between 5 people, with 12% tip.\n",
        "\n",
        "Each person should pay (150.00 / 5) * 1.12 = 33.6\n",
        "\n",
        "Format the result to 2 decimal places = 33.60\n",
        "\n",
        "Thus everyone's share of the total bill is $30.00+ $3.60 tip.\n",
        "\n",
        "Tip: There are 2 ways to round a number. You might have to do some Googling to solve this.💪"
      ],
      "metadata": {
        "id": "Qn6hegyoRg2O"
      }
    },
    {
      "cell_type": "code",
      "source": [
        "# Tip Calculator\n",
        "\n",
        "bill=float(input(\"What was your total bill? $ \"))\n",
        "payable_amount = float((bill/5)*1.12)\n",
        "tip = int(input(\"How much percentage of tip would you like to give? 10,12,15,17? \"))\n",
        "people = int(input(\"How many people to split the bill with? \"))\n",
        "\n",
        "tip_percent = tip/100\n",
        "total_tip= bill*tip_percent\n",
        "total_bill = bill + total_tip\n",
        "bill_per_person = total_bill/people\n",
        "\n",
        "final_amount = round(bill_per_person,2)\n",
        "print(f\"Each person should be paying ${final_amount}.\")"
      ],
      "metadata": {
        "id": "IjEDnR4aOCge",
        "colab": {
          "base_uri": "https://localhost:8080/"
        },
        "outputId": "c97e6a3d-f22d-4d99-89a6-c34550ac4dc6"
      },
      "execution_count": 10,
      "outputs": [
        {
          "output_type": "stream",
          "name": "stdout",
          "text": [
            "What was your total bill? $ 150\n",
            "How much percentage of tip would you like to give? 10,12,15,17? 12\n",
            "How many people to split the bill with? 5\n",
            "Each person should be paying $33.6.\n"
          ]
        }
      ]
    },
    {
      "cell_type": "code",
      "source": [
        ""
      ],
      "metadata": {
        "id": "3w7ekc2UBzvQ"
      },
      "execution_count": null,
      "outputs": []
    }
  ]
}