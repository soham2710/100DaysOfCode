{
  "nbformat": 4,
  "nbformat_minor": 0,
  "metadata": {
    "colab": {
      "name": "Day 4 of #100daysofcode.ipynb",
      "provenance": [],
      "authorship_tag": "ABX9TyM9JTFNNx3Qr3xqV5apAhYt",
      "include_colab_link": true
    },
    "kernelspec": {
      "name": "python3",
      "display_name": "Python 3"
    },
    "language_info": {
      "name": "python"
    }
  },
  "cells": [
    {
      "cell_type": "markdown",
      "metadata": {
        "id": "view-in-github",
        "colab_type": "text"
      },
      "source": [
        "<a href=\"https://colab.research.google.com/github/soham2710/100DaysOfCode/blob/main/Day_4_of_100daysofcode.ipynb\" target=\"_parent\"><img src=\"https://colab.research.google.com/assets/colab-badge.svg\" alt=\"Open In Colab\"/></a>"
      ]
    },
    {
      "cell_type": "markdown",
      "source": [
        "#Heads or Tails\n",
        "You are going to write a virtual coin toss program. It will randomly tell the user \"Heads\" or \"Tails\".\n",
        "\n",
        "Important, the first letter should be capitalised and spelt exactly like in the example e.g. Heads, not heads.\n",
        "\n",
        "When you run the code, just use a random number as the seed. e.g. 67346 It doesn't matter what you chose, it's only for our testing code to check your work.\n",
        "\n",
        "There are many ways of doing this. But to practice what we learnt in the last lesson, you should generate a random number, either 0 or 1. Then use that number to print out Heads or Tails.\n",
        "\n",
        "e.g. 1 means Heads 0 means Tails"
      ],
      "metadata": {
        "id": "Rk8bLZdV_gNO"
      }
    },
    {
      "cell_type": "code",
      "execution_count": null,
      "metadata": {
        "id": "JSOnosIl0pks",
        "colab": {
          "base_uri": "https://localhost:8080/"
        },
        "outputId": "8666c546-8199-48c2-b059-82ae97a17468"
      },
      "outputs": [
        {
          "output_type": "stream",
          "name": "stdout",
          "text": [
            "Tails\n"
          ]
        }
      ],
      "source": [
        "import random\n",
        "\n",
        "hort = random.randrange(0,1)\n",
        "\n",
        "if hort==1:\n",
        "    print(\"Heads\")\n",
        "else:\n",
        "    print(\"Tails\")"
      ]
    },
    {
      "cell_type": "markdown",
      "source": [
        "# Banker Roulette\n",
        "You are going to write a program that will select a random name from a list of names. The person selected will have to pay for everybody's food bill.\n",
        "\n",
        "Important: You are not allowed to use the **choice()** function.\n",
        "\n",
        "Split the string names_string into individual names and puts them inside a List called names. For this to work, you must enter all the names as names followed by comma then space. e.g. name, name, name\n",
        "\n",
        "When you run the code, just use a random number as the seed. e.g. 67346 It doesn't matter what you chose, it's only for our testing code to check your work."
      ],
      "metadata": {
        "id": "5dNCAjSud-jL"
      }
    },
    {
      "cell_type": "code",
      "source": [
        "import random\n",
        "# Split string method\n",
        "names_string = input(\"Give me everybody's names, separated by a comma: \")\n",
        "names = names_string.split(\", \")\n",
        "\n",
        "length = len(names)\n",
        "\n",
        "bill = random.randint(0, length - 1)\n",
        "payup = names[bill]\n",
        "print(f\"{payup} will pay the bill\")"
      ],
      "metadata": {
        "colab": {
          "base_uri": "https://localhost:8080/"
        },
        "id": "t-pqS44JAybQ",
        "outputId": "1d2d3b9f-c98a-4c5e-ecee-28f157e77b33"
      },
      "execution_count": null,
      "outputs": [
        {
          "output_type": "stream",
          "name": "stdout",
          "text": [
            "Give me everybody's names, separated by a comma: Soham, Babu, Mummy, Pappa, Daya, FUidada, Danny, Sunny, Tina Aunty\n",
            "Babu will pay the bill\n"
          ]
        }
      ]
    },
    {
      "cell_type": "markdown",
      "source": [
        "#Treasure map\n",
        "You are going to write a program that will mark a spot with an X.\n",
        "\n",
        "In the starting code, you will find a variable called map.\n",
        "\n",
        "This map contains a nested list. When map is printed this is what the nested list looks like:\n",
        "\n",
        "['⬜️', '⬜️', '⬜️'],['⬜️', '⬜️', '⬜️'],['⬜️', '⬜️', '⬜️']\n",
        "\n",
        "In the starting code, we have used new lines (\\n) to format the three rows into a square, like this:\n",
        "\n",
        "['⬜️', '⬜️', '⬜️']\n",
        "\n",
        "['⬜️', '⬜️', '⬜️']\n",
        "\n",
        "['⬜️', '⬜️', '⬜️']\n",
        "\n",
        "This is to try and simulate the coordinates on a real map.\n"
      ],
      "metadata": {
        "id": "jFVg8t_B-u2E"
      }
    },
    {
      "cell_type": "code",
      "source": [
        "row1 = [\"⬜️\",\"⬜️\",\"⬜️\"]\n",
        "row2 = [\"⬜️\",\"⬜️\",\"⬜️\"]\n",
        "row3 = [\"⬜️\",\"⬜️\",\"⬜️\"]\n",
        "map = [row1, row2, row3]\n",
        "print(f\"{row1}\\n{row2}\\n{row3}\")\n",
        "position = input(\"Where do you want to put the treasure? \")\n",
        "\n",
        "horizontal = int(position[0])\n",
        "vertical = int(position[1])\n",
        "\n",
        "map[vertical - 1][horizontal - 1] = \"X\"\n",
        "\n",
        "print(f\"{row1}\\n{row2}\\n{row3}\")\n"
      ],
      "metadata": {
        "id": "WU3tV91hfPP-",
        "colab": {
          "base_uri": "https://localhost:8080/"
        },
        "outputId": "15fddea5-88e1-4d06-9aa4-9e4e7c1780d4"
      },
      "execution_count": 4,
      "outputs": [
        {
          "output_type": "stream",
          "name": "stdout",
          "text": [
            "['⬜️', '⬜️', '⬜️']\n",
            "['⬜️', '⬜️', '⬜️']\n",
            "['⬜️', '⬜️', '⬜️']\n",
            "Where do you want to put the treasure? 12\n",
            "['⬜️', '⬜️', '⬜️']\n",
            "['X', '⬜️', '⬜️']\n",
            "['⬜️', '⬜️', '⬜️']\n"
          ]
        }
      ]
    },
    {
      "cell_type": "markdown",
      "source": [
        "#Rock Paper And Scissors game\n",
        "Make a rock, paper, scissors game.\n",
        "\n",
        "Inside the main.py file, you'll find the ASCII art for the hand signals already saved to a corresponding variable: rock, paper, and scissors. This will make it easy to print them out to the console.\n",
        "\n",
        "Start the game by asking the player:\n",
        "\n",
        "\"What do you choose? Type 0 for Rock, 1 for Paper or 2 for Scissors.\"\n",
        "\n",
        "From there you will need to figure out:\n",
        "\n",
        "How you will store the user's input.\n",
        "How you will generate a random choice for the computer.\n",
        "How you will compare the user's and the computer's choice to determine the winner (or a draw).\n",
        "And also how you will give feedback to the player.\n",
        "You can find the \"official\" rules of the game on the World Rock Paper Scissors Association website.\n",
        "\n",
        "Debugging challenge\n",
        "Try running this code and type 5.\n",
        "\n",
        "It will give you an IndexError and point to line 32 as the issue.\n",
        "\n",
        "But on line 38 we are trying to prevent a crash by detecting any numbers great than or equal to 3 or less than 0.\n",
        "\n",
        "So what's going on? Can you debug the code and fix it?"
      ],
      "metadata": {
        "id": "Nav9ZECWESMe"
      }
    },
    {
      "cell_type": "code",
      "source": [
        "import random\n",
        "\n",
        "rock = '''\n",
        "    _______\n",
        "---'   ____)\n",
        "      (_____)\n",
        "      (_____)\n",
        "      (____)\n",
        "---.__(___)\n",
        "'''\n",
        "\n",
        "paper = '''\n",
        "    _______\n",
        "---'   ____)____\n",
        "          ______)\n",
        "          _______)\n",
        "         _______)\n",
        "---.__________)\n",
        "'''\n",
        "\n",
        "scissors = '''\n",
        "    _______\n",
        "---'   ____)____\n",
        "          ______)\n",
        "       __________)\n",
        "      (____)\n",
        "---.__(___)\n",
        "'''\n",
        "\n",
        "game_images = [rock, paper, scissors]\n",
        "\n",
        "user_choice = int(input(\"What do you choose? Type 0 for Rock, 1 for Paper or 2 for Scissors.\\n\"))\n",
        "print(game_images[user_choice])\n",
        "\n",
        "computer_choice = random.randint(0, 2)\n",
        "print(\"Computer chose:\")\n",
        "print(game_images[computer_choice])\n",
        "if user_choice >= 3 or user_choice < 0: \n",
        "  print(\"You typed an invalid number, you lose!\") \n",
        "elif user_choice == 0 and computer_choice == 2:\n",
        "  print(\"You win!\")\n",
        "elif computer_choice == 0 and user_choice == 2:\n",
        "  print(\"You lose\")\n",
        "elif computer_choice > user_choice:\n",
        "  print(\"You lose\")\n",
        "elif user_choice > computer_choice:\n",
        "  print(\"You win!\")\n",
        "elif computer_choice == user_choice:\n",
        "  print(\"It's a draw\")"
      ],
      "metadata": {
        "id": "e4KSEALpAhdm"
      },
      "execution_count": null,
      "outputs": []
    }
  ]
}