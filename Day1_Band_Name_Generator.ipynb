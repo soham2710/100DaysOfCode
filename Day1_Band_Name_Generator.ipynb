{
  "nbformat": 4,
  "nbformat_minor": 0,
  "metadata": {
    "colab": {
      "name": "Day1-Band Name Generator.ipynb",
      "provenance": [],
      "authorship_tag": "ABX9TyMITI9X1hfI7mI0S+t7Q+de",
      "include_colab_link": true
    },
    "kernelspec": {
      "name": "python3",
      "display_name": "Python 3"
    },
    "language_info": {
      "name": "python"
    }
  },
  "cells": [
    {
      "cell_type": "markdown",
      "metadata": {
        "id": "view-in-github",
        "colab_type": "text"
      },
      "source": [
        "<a href=\"https://colab.research.google.com/github/soham2710/100DaysOfCode/blob/main/Day1_Band_Name_Generator.ipynb\" target=\"_parent\"><img src=\"https://colab.research.google.com/assets/colab-badge.svg\" alt=\"Open In Colab\"/></a>"
      ]
    },
    {
      "cell_type": "code",
      "execution_count": null,
      "metadata": {
        "colab": {
          "base_uri": "https://localhost:8080/"
        },
        "id": "uyfCP9sNdwzT",
        "outputId": "ab047b29-ca45-4aee-8e3b-b11fbab6b4a6"
      },
      "outputs": [
        {
          "output_type": "stream",
          "name": "stdout",
          "text": [
            "8\n"
          ]
        }
      ],
      "source": [
        "print(len(\"95637+12\"))"
      ]
    },
    {
      "cell_type": "code",
      "source": [
        "score = 67\n",
        "if score < 80 and score > 70:\n",
        "    print(\"A\")\n",
        "elif score < 90 or score > 80:\n",
        "    print(\"B\")\n",
        "elif score > 60:\n",
        "    print(\"C\")\n",
        "else:\n",
        "    print(\"D\")"
      ],
      "metadata": {
        "colab": {
          "base_uri": "https://localhost:8080/"
        },
        "id": "2nVU4pnOd0Nf",
        "outputId": "9ea0794d-f4d6-48f4-97ee-0e3726676d12"
      },
      "execution_count": null,
      "outputs": [
        {
          "output_type": "stream",
          "name": "stdout",
          "text": [
            "B\n"
          ]
        }
      ]
    },
    {
      "cell_type": "code",
      "source": [
        "print(\"print('what to print')\")"
      ],
      "metadata": {
        "colab": {
          "base_uri": "https://localhost:8080/"
        },
        "id": "LrqbPKVFeEt-",
        "outputId": "1fa3a03d-548d-4931-e72b-e0223181bd2b"
      },
      "execution_count": null,
      "outputs": [
        {
          "output_type": "stream",
          "name": "stdout",
          "text": [
            "print('what to print')\n"
          ]
        }
      ]
    },
    {
      "cell_type": "code",
      "source": [
        "name = input(\"What is your name?:\")\n",
        "print(\"Hello \"+\" \"+name+\" !\")"
      ],
      "metadata": {
        "id": "TI4nLTATk_9o",
        "colab": {
          "base_uri": "https://localhost:8080/"
        },
        "outputId": "8899c582-ffde-4160-d54e-b38a594d3179"
      },
      "execution_count": 3,
      "outputs": [
        {
          "output_type": "stream",
          "name": "stdout",
          "text": [
            "What is your name?:soham\n",
            "Hello soham !\n"
          ]
        }
      ]
    },
    {
      "cell_type": "code",
      "source": [
        "print(\"Hello \"+input(\"What is your name?:\")+\"!\")"
      ],
      "metadata": {
        "colab": {
          "base_uri": "https://localhost:8080/"
        },
        "id": "xzgNKjc2XRjW",
        "outputId": "d00e2db2-fea5-4a3f-a6da-8a76da163188"
      },
      "execution_count": 5,
      "outputs": [
        {
          "output_type": "stream",
          "name": "stdout",
          "text": [
            "What is your name?:Jaya Sharma\n",
            "Hello Jaya Sharma!\n"
          ]
        }
      ]
    },
    {
      "cell_type": "code",
      "source": [
        "print(len(input(\"What is your Name? : \")))"
      ],
      "metadata": {
        "colab": {
          "base_uri": "https://localhost:8080/"
        },
        "id": "HmUfDOFYYZsF",
        "outputId": "0a36b3b2-f43a-4917-cf7e-d923e2443d71"
      },
      "execution_count": 6,
      "outputs": [
        {
          "output_type": "stream",
          "name": "stdout",
          "text": [
            "What is your Name? : Soham\n",
            "5\n"
          ]
        }
      ]
    },
    {
      "cell_type": "code",
      "source": [
        "# 🚨 Don't change the code below 👇\n",
        "a = input(\"a: \")\n",
        "b = input(\"b: \")\n",
        "# 🚨 Don't change the code above 👆\n",
        "\n",
        "####################################\n",
        "#Write your code below this line 👇\n",
        "c = a\n",
        "a = b\n",
        "b = c\n",
        "\n",
        "print(a)\n",
        "print(b)"
      ],
      "metadata": {
        "colab": {
          "base_uri": "https://localhost:8080/"
        },
        "id": "DfFnmuD8ZUPL",
        "outputId": "1134a317-f591-469a-bead-e8d2cca2b30e"
      },
      "execution_count": 1,
      "outputs": [
        {
          "output_type": "stream",
          "name": "stdout",
          "text": [
            "a: 5\n",
            "b: 10\n",
            "10\n",
            "5\n"
          ]
        }
      ]
    },
    {
      "cell_type": "code",
      "source": [
        "#1. Create a greeting for your program.\n",
        "\n",
        "print(\"Welcome to Brand Name Generator\")\n",
        "\n",
        "#2. Ask the user for the city that they grew up in.\n",
        "\n",
        "city = input(\"What is the Name your City? : \")\n",
        "\n",
        "#3. Ask the user for the name of a pet.\n",
        "\n",
        "pet = input(\"What is the Name of your Pet? : \")\n",
        "\n",
        "#4. Combine the name of their city and pet and show them their band name.\n",
        "\n",
        "print(\"Your Band name could Be \" + city + \" \" + pet)"
      ],
      "metadata": {
        "colab": {
          "base_uri": "https://localhost:8080/"
        },
        "id": "icsB96lmMTfD",
        "outputId": "4e3fad75-dca7-4133-f2e2-c88d0b63938c"
      },
      "execution_count": 3,
      "outputs": [
        {
          "output_type": "stream",
          "name": "stdout",
          "text": [
            "Welcome to Brand Name Generator\n",
            "What is the Name your City? : Mumbai\n",
            "What is the Name of your Pet? : siudfsf\n",
            "Your Band name could Be Mumbai siudfsf\n"
          ]
        }
      ]
    },
    {
      "cell_type": "code",
      "source": [
        ""
      ],
      "metadata": {
        "id": "4O9aUaqYRvbr"
      },
      "execution_count": null,
      "outputs": []
    }
  ]
}